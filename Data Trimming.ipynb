{
 "cells": [
  {
   "cell_type": "code",
   "execution_count": 3,
   "id": "dd64123f",
   "metadata": {},
   "outputs": [],
   "source": [
    "import pandas as pd"
   ]
  },
  {
   "cell_type": "code",
   "execution_count": 2,
   "id": "b6cb7f1b",
   "metadata": {},
   "outputs": [],
   "source": [
    "df = pd.read_csv('A_Z Handwritten Data.csv')"
   ]
  },
  {
   "cell_type": "code",
   "execution_count": 15,
   "id": "816af5b0",
   "metadata": {},
   "outputs": [],
   "source": [
    "df.rename(columns={'0':'label'}, inplace=True)\n",
    "\n",
    "grouped = df.groupby('label')\n",
    "\n",
    "trimmed_df = pd.DataFrame(columns=df.columns)\n",
    "\n",
    "for label, group in grouped:\n",
    "    if len(group) > 3000:\n",
    "        trimmed_group = group.sample(n=3000, random_state=42)\n",
    "        trimmed_df = pd.concat([trimmed_df, trimmed_group], ignore_index=True)\n",
    "    else:\n",
    "        trimmed_df = pd.concat([trimmed_df, group], ignore_index=True)"
   ]
  },
  {
   "cell_type": "code",
   "execution_count": 16,
   "id": "23043675",
   "metadata": {},
   "outputs": [
    {
     "data": {
      "text/plain": [
       "0     3000\n",
       "1     3000\n",
       "24    3000\n",
       "23    3000\n",
       "22    3000\n",
       "21    3000\n",
       "20    3000\n",
       "19    3000\n",
       "18    3000\n",
       "17    3000\n",
       "16    3000\n",
       "15    3000\n",
       "14    3000\n",
       "13    3000\n",
       "12    3000\n",
       "11    3000\n",
       "10    3000\n",
       "9     3000\n",
       "7     3000\n",
       "6     3000\n",
       "4     3000\n",
       "3     3000\n",
       "2     3000\n",
       "25    3000\n",
       "5     1163\n",
       "8     1120\n",
       "Name: label, dtype: int64"
      ]
     },
     "execution_count": 16,
     "metadata": {},
     "output_type": "execute_result"
    }
   ],
   "source": [
    "trimmed_df['label'].value_counts()"
   ]
  },
  {
   "cell_type": "code",
   "execution_count": 18,
   "id": "47aec8fa",
   "metadata": {},
   "outputs": [],
   "source": [
    "trimmed_df.to_csv('3000.csv', index=False)"
   ]
  }
 ],
 "metadata": {
  "kernelspec": {
   "display_name": "Python 3 (ipykernel)",
   "language": "python",
   "name": "python3"
  },
  "language_info": {
   "codemirror_mode": {
    "name": "ipython",
    "version": 3
   },
   "file_extension": ".py",
   "mimetype": "text/x-python",
   "name": "python",
   "nbconvert_exporter": "python",
   "pygments_lexer": "ipython3",
   "version": "3.11.4"
  }
 },
 "nbformat": 4,
 "nbformat_minor": 5
}
